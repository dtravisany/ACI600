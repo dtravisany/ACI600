{
 "cells": [
  {
   "cell_type": "markdown",
   "id": "714a58bd",
   "metadata": {},
   "source": [
    "## Ejemplo de programación con invariantes: Evaluación de un polinomio\n",
    "\n",
    "Supongamos que se tiene un polinomio\n",
    "\n",
    "$$\n",
    "P(x) = \\sum_{0\\leq k\\leq n}{a_k x^k}\n",
    "$$\n",
    "\n",
    "y se desea calcular su valor en un punto dado $x$.\n",
    "\n",
    "Una solución trivial se puede obtener directamente de la fórmula anterior:\n"
   ]
  },
  {
   "cell_type": "code",
   "execution_count": 1,
   "id": "faef95ad",
   "metadata": {},
   "outputs": [],
   "source": [
    "def evalp(a,x):\n",
    "    \"\"\"Evalúa en el punto x el polinomio cuyos coeficientes son a[0], a[1],...\n",
    "    Retorna el valor calculado\n",
    "    \"\"\"\n",
    "    P=0\n",
    "    for k in range(0,len(a)):\n",
    "        # Invariante: P=a[0]+a[1]*x+...+a[k-1]*x**(k-1)\n",
    "        P += a[k]*x**k\n",
    "    return P"
   ]
  },
  {
   "cell_type": "markdown",
   "id": "a3c0c10a",
   "metadata": {},
   "source": [
    "Podemos probar esta función evaluando el polinomio\n",
    "\n",
    "$$\n",
    "P(x) = 5+2x-3x^2+4x^3\n",
    "$$\n",
    "\n",
    "en el punto $x=2$:"
   ]
  },
  {
   "cell_type": "code",
   "execution_count": 2,
   "id": "935cc516",
   "metadata": {},
   "outputs": [
    {
     "name": "stdout",
     "output_type": "stream",
     "text": [
      "29\n"
     ]
    }
   ],
   "source": [
    "print(evalp([5,2,-3,4],2))"
   ]
  },
  {
   "cell_type": "markdown",
   "id": "85ee9ccf",
   "metadata": {},
   "source": [
    "-----"
   ]
  },
  {
   "cell_type": "markdown",
   "id": "f326a3ad",
   "metadata": {},
   "source": [
    "## Numpy y Arreglos\n",
    "\n",
    "Numpy es la principal biblioteca de computación númerica y la base de la computación científica en Python.\n",
    "\n",
    "Una de las características de Numpy es que provee arreglos multidimensionales de alta eficiencia. Las listas nativas de python son muy flexibles, pero esto conlleva un problema, cuando queremos acceder a elementos específicos, las listas nativas de python no son eficientes. Aquí encontramos una justificación para utilizar Numpy. dado que los arreglos de este, aseguran el acceso a cada elemento en tiempo constante. \n",
    "\n",
    "Por esa razón, de ahora en adelante, utilizaremos `numpy.ndarrays` cuando necesitemos asegurar la eficiencia de la implementación de los algoritmos.\n"
   ]
  },
  {
   "cell_type": "code",
   "execution_count": 4,
   "id": "551b9569",
   "metadata": {},
   "outputs": [],
   "source": [
    "import numpy as np\n",
    "\n"
   ]
  },
  {
   "cell_type": "code",
   "execution_count": 8,
   "id": "4c13141a",
   "metadata": {},
   "outputs": [
    {
     "data": {
      "text/plain": [
       "numpy.ndarray"
      ]
     },
     "execution_count": 8,
     "metadata": {},
     "output_type": "execute_result"
    }
   ],
   "source": [
    "a = np.array([6,5,4,3,2,1.1])\n",
    "type(a)\n"
   ]
  },
  {
   "cell_type": "code",
   "execution_count": 9,
   "id": "665f4143",
   "metadata": {},
   "outputs": [
    {
     "name": "stdout",
     "output_type": "stream",
     "text": [
      "[6.  5.  4.  3.  2.  1.1] 6 3.0\n"
     ]
    }
   ],
   "source": [
    "print(a, len(a),a[3])"
   ]
  },
  {
   "cell_type": "markdown",
   "id": "8a405259",
   "metadata": {},
   "source": [
    "Los arreglos de numpy se pueden inicializar de forma muy fácil y con valores predefinidos, por ejemplo:"
   ]
  },
  {
   "cell_type": "code",
   "execution_count": 12,
   "id": "e63cfcbb",
   "metadata": {},
   "outputs": [
    {
     "name": "stdout",
     "output_type": "stream",
     "text": [
      "[1. 1. 1. 1. 1. 1. 1. 1. 1. 1. 1. 1. 1. 1. 1. 1. 1. 1. 1. 1.]\n"
     ]
    }
   ],
   "source": [
    "unos = np.ones(20)\n",
    "print(unos)"
   ]
  },
  {
   "cell_type": "code",
   "execution_count": 15,
   "id": "3bd0d812",
   "metadata": {},
   "outputs": [
    {
     "name": "stdout",
     "output_type": "stream",
     "text": [
      "[0 0 0 0 0 0 0 0 0 0]\n"
     ]
    }
   ],
   "source": [
    "ceros = np.zeros(10, dtype=int)\n",
    "print(ceros)"
   ]
  },
  {
   "cell_type": "code",
   "execution_count": 21,
   "id": "b5096d53",
   "metadata": {},
   "outputs": [
    {
     "name": "stdout",
     "output_type": "stream",
     "text": [
      "[0. 0. 0. 0. 0. 0. 0. 0. 0. 0.]\n"
     ]
    }
   ],
   "source": [
    "ceros_float = np.zeros(10)\n",
    "print(ceros_float)"
   ]
  },
  {
   "cell_type": "code",
   "execution_count": 22,
   "id": "8c262f35",
   "metadata": {},
   "outputs": [
    {
     "name": "stdout",
     "output_type": "stream",
     "text": [
      "<class 'numpy.float64'> <class 'numpy.int64'>\n"
     ]
    }
   ],
   "source": [
    "print(type(ceros_float[1]), type(ceros[1]))"
   ]
  },
  {
   "cell_type": "markdown",
   "id": "1c658f50",
   "metadata": {},
   "source": [
    "Como podemos ver, por defecto numpy utiliza `float` mientras que si sobrecargamos la función con el tipo de dato utilizando `dtype` podemos modificar a `int` u otro tipo por ejemplo, `np.uint8`."
   ]
  },
  {
   "cell_type": "code",
   "execution_count": 28,
   "id": "aa422de8",
   "metadata": {},
   "outputs": [
    {
     "name": "stdout",
     "output_type": "stream",
     "text": [
      "[0 0 0 0 0 0 0 0 0 0] <class 'numpy.uint8'>\n"
     ]
    }
   ],
   "source": [
    "ceros = np.zeros(10, dtype=np.uint8)\n",
    "print(ceros, type(ceros[0]))"
   ]
  },
  {
   "cell_type": "code",
   "execution_count": null,
   "id": "f5dd0270",
   "metadata": {},
   "outputs": [],
   "source": []
  },
  {
   "cell_type": "markdown",
   "id": "5bbe4883",
   "metadata": {},
   "source": [
    "## Ejemplos de programación con invariantes: Ordenación\n",
    "\n",
    "## Ordenación por inserción\n",
    "\n",
    "Supongamos que se tiene un arreglo $a$, de tamaño $n$, y queremos reordenar los datos almacenados en su interior de modo que queden en orden ascendente.\n",
    "\n",
    "El método de **Ordenación por Inserción** se basa en formar en el sector izquierdo del arreglo un subconjunto ordenado, en el cual se van insertando uno por uno los elementos restantes. Para la inicialización, comenzamos con un subconjunto ordenado de tamaño 0, y el proceso termina cuando el subconjunto ordenado llega a tener tamaño $n$. El invariante se puede visualizar como:\n",
    "\n",
    "![insercion](assets/insercion.png)\n",
    "\n",
    "La variable $k$ indica el tamaño del subconjunto ordenado. Equivalentemente, $k$ es el subíndice del primer elemento todavía no ordenado, y que será el que se insertará en esta oportunidad."
   ]
  },
  {
   "cell_type": "code",
   "execution_count": 29,
   "id": "5896cbe4",
   "metadata": {},
   "outputs": [],
   "source": [
    "# Ordenación Por Inserción\n",
    "def ordena_insercion(a):\n",
    "    n=len(a)\n",
    "    for k in range(0,n):\n",
    "        insertar(a,k)"
   ]
  },
  {
   "cell_type": "markdown",
   "id": "7370db37",
   "metadata": {},
   "source": [
    "Si bien podemos ejecutar la función, todavía tenemos que definir `insertar`.  \n",
    "`insertar` se encargará de tomar $a[k]$ e insertarlo entre los anteriores. La forma más simple de hacer esto es a través de intercambios sucesivos:"
   ]
  },
  {
   "cell_type": "code",
   "execution_count": 30,
   "id": "4cafe263",
   "metadata": {},
   "outputs": [],
   "source": [
    "# Insertar a[k] entre los elementos anteriores preservando el orden ascendente (versión 1)\n",
    "def insertar(a, k):\n",
    "    j=k # señala la posición del elemento que está siendo insertado\n",
    "    while j>0 and a[j]<a[j-1]:\n",
    "        (a[j], a[j-1]) = (a[j-1], a[j])\n",
    "        j-=1"
   ]
  },
  {
   "cell_type": "code",
   "execution_count": 32,
   "id": "d41a3c84",
   "metadata": {},
   "outputs": [
    {
     "name": "stdout",
     "output_type": "stream",
     "text": [
      "[0.24730082 0.51357712 0.89704644 0.49365351 0.26898588 0.2557886 ]\n"
     ]
    }
   ],
   "source": [
    "a = np.random.random(6)\n",
    "print(a)\n"
   ]
  },
  {
   "cell_type": "code",
   "execution_count": 33,
   "id": "d49f2c57",
   "metadata": {},
   "outputs": [
    {
     "name": "stdout",
     "output_type": "stream",
     "text": [
      "[0.24730082 0.2557886  0.26898588 0.49365351 0.51357712 0.89704644]\n"
     ]
    }
   ],
   "source": [
    "ordena_insercion(a)\n",
    "print(a)"
   ]
  },
  {
   "cell_type": "markdown",
   "id": "ced5f8b9",
   "metadata": {},
   "source": [
    "Si observamos el algoritmo de inserción, podemos ver que en los intercambios siempre uno de los dos elementos involucrados es el que se está insertando, el cual pasa por muchos lugares provisorios hasta llegar finalmente a su ubicación definitiva. Esto sugiere que podemos ahorrar trabajo si en lugar de hacer todos esos intercambios, sacamos primero el elemento a insertar hacia una variable auxiliar, luego vamos moviendo los restantes elementos hacia la derecha, y al final movemos directamente el nuevo elemento desde la variable auxiliar hasta su posición definitiva:"
   ]
  },
  {
   "cell_type": "code",
   "execution_count": 34,
   "id": "3c59355b",
   "metadata": {},
   "outputs": [],
   "source": [
    "# Insertar a[k] entre los elementos anteriores preservando el orden ascendente (versión 2)\n",
    "def insertar(a, k):\n",
    "    b=a[k] # b almacena transitoriamente al elemento a[k]\n",
    "    j=k # señala la posición del lugar \"vacío\"\n",
    "    while j>0 and b<a[j-1]:\n",
    "        a[j]=a[j-1]\n",
    "        j-=1\n",
    "    a[j]=b"
   ]
  },
  {
   "cell_type": "code",
   "execution_count": 35,
   "id": "a94599c5",
   "metadata": {},
   "outputs": [
    {
     "name": "stdout",
     "output_type": "stream",
     "text": [
      "[0.04179484 0.40293743 0.9320439  0.04102558 0.57215519 0.99971235]\n"
     ]
    }
   ],
   "source": [
    "a = np.random.random(6)\n",
    "print(a)"
   ]
  },
  {
   "cell_type": "code",
   "execution_count": 36,
   "id": "84750717",
   "metadata": {},
   "outputs": [
    {
     "name": "stdout",
     "output_type": "stream",
     "text": [
      "[0.04102558 0.04179484 0.40293743 0.57215519 0.9320439  0.99971235]\n"
     ]
    }
   ],
   "source": [
    "ordena_insercion(a)\n",
    "print(a)"
   ]
  },
  {
   "cell_type": "markdown",
   "id": "014a7142",
   "metadata": {},
   "source": [
    "Para analizar la eficiencia de este algoritmo, podemos considerar varios casos:\n",
    "* Mejor caso: Si el arreglo ya viene ordenado, el ciclo de la función `insertar` termina de inmediato, así que esa función demora tiempo constante, y el proceso completo demora tiempo $O(n)$, lineal en $n$.\n",
    "* Peor caso: Si el arreglo viene originalmente en orden decreciente, el ciclo de la función `insertar` hace el máximo de iteraciones ($k$), y la suma de todos esos costos da un total de $O(n^2)$, cuadrático en $n$.\n",
    "* Caso promedio: Si el arreglo viene en orden aleatorio, el número promedio de iteraciones que hace el ciclo de la función `insertar` es aproximadamente $k/2$, y la suma de todos esos costos igual da un total de $O(n^2)$. Esto es, el costo promedio también es cuadrático."
   ]
  },
  {
   "cell_type": "markdown",
   "id": "18db0fb4",
   "metadata": {},
   "source": [
    "## Ordenación por Selección\n",
    "\n",
    "El método de **Ordenación por Selección** se basa en extraer el máximo elemento y moverlo hacia el extremo derecho del arreglo, y repetir este proceso entre los elementos restantes hasta que todos hayan sido extraídos. El invariante se puede visualizar como:\n",
    "\n",
    "![ord-seleccion](assets/seleccion.png)\n",
    "\n",
    "La variable $k$ indica el tamaño del subconjunto que todavía falta por procesar. Equivalentemente, es el subíndice del primer elemento que ya pertenece al subconjunto ordenado."
   ]
  },
  {
   "cell_type": "code",
   "execution_count": 37,
   "id": "06680561",
   "metadata": {},
   "outputs": [],
   "source": [
    "# Ordenación por Selección\n",
    "def ordena_seleccion(a):\n",
    "    n=len(a)\n",
    "    for k in range(n,1,-1): # Paramos cuando todavía queda 1 elemento \"desordenado\" (¿por qué está bien eso?)\n",
    "        j=pos_maximo(a,k) # Encuentra posición del máximo entre a[0],...,a[k-1]\n",
    "        (a[j],a[k-1])=(a[k-1],a[j])"
   ]
  },
  {
   "cell_type": "code",
   "execution_count": 38,
   "id": "80c251fd",
   "metadata": {},
   "outputs": [],
   "source": [
    "# Encuentra posición del máximo entre a[0],...,a[k-1]\n",
    "def pos_maximo(a, k):\n",
    "    j=0 # j señala la posición del máximo\n",
    "    for i in range(1,k):\n",
    "        if a[i]>a[j]: # Encontramos un nuevo máximo\n",
    "            j=i\n",
    "    return j"
   ]
  },
  {
   "cell_type": "markdown",
   "id": "875500ee",
   "metadata": {},
   "source": [
    "Nuevamente, probamos nuestro algoritmo con un arreglo aleatorio:"
   ]
  },
  {
   "cell_type": "code",
   "execution_count": 39,
   "id": "a37e88b1",
   "metadata": {},
   "outputs": [
    {
     "name": "stdout",
     "output_type": "stream",
     "text": [
      "[0.93954663 0.80918274 0.35809344 0.76314942 0.71087534 0.13591454]\n"
     ]
    }
   ],
   "source": [
    "a = np.random.random(6)\n",
    "print(a)\n"
   ]
  },
  {
   "cell_type": "code",
   "execution_count": 40,
   "id": "aca746f0",
   "metadata": {},
   "outputs": [
    {
     "name": "stdout",
     "output_type": "stream",
     "text": [
      "[0.13591454 0.35809344 0.71087534 0.76314942 0.80918274 0.93954663]\n"
     ]
    }
   ],
   "source": [
    "ordena_seleccion(a)\n",
    "print(a)"
   ]
  },
  {
   "cell_type": "markdown",
   "id": "5dd303e1",
   "metadata": {},
   "source": [
    "En este algoritmo, siempre se recorre todo el conjunto de tamaño $k$ para encontrar el máximo, de modo que la suma de todos estos costos de un total de $O(n^2)$, en todos los casos.\n",
    "\n",
    "Más adelante veremos que hay maneras mucho más eficientes de calcular el máximo de un conjunto, una vez que se ha encontrado y extraído el máximo la primera vez.\n",
    "\n",
    "Piensen por ejemplo en un típico torneo de tenis, en donde los jugadores se van eliminando por rondas, hasta que en la final queda solo un jugador invicto: el campeón. Si hay $n$ jugadores, ese proceso requiere exactamente $n-1$ partidos. **Pero** una vez que se ha jugado todo ese torneo, hagamos un experimento mental y pensemos que habría sucedido si el primer día el campeón no hubiera podido jugar por alguna causa. Para determinar quién habría resultado campeón en esas circunstancias (o sea, para encontrar al subcampeón), **no sería necesario repetir todo el torneo, sino solo volver a jugar los partidos en los que habría participado el campeón**. Ese número de partidos es mucho menor a $n$, y en realidad no es difícil ver que es logarítmico. Y eso puede repetirse para encontrar al tercero, al cuarto, etc., siempre con el mismo costo logarítmico.\n",
    "\n",
    "Si sumamos todos esos costos, da un total de $O(n\\log{n})$, en el peor caso."
   ]
  },
  {
   "cell_type": "markdown",
   "id": "a5074089",
   "metadata": {},
   "source": [
    "Lo anterior es una \"demostración de factibilidad\" de que existen algoritmos de ordenación de costo $O(n\\log{n})$, más eficientes que $O(n^2)$. Más adelante en el curso veremos algoritmos prácticos que alcanzan esta eficiencia."
   ]
  },
  {
   "cell_type": "markdown",
   "id": "4b822015",
   "metadata": {},
   "source": [
    "## Ordenación de la Burbuja\n",
    "\n",
    "Este algoritmo se basa en ir haciendo pasadas sucesivas de izquierda a derecha sobre el arreglo, y cada vez que encuentra dos elementos adyacentes fuera de orden, los intercambia. Así, el arreglo va quedando cada vez \"más ordenado\", hasta que finalmente esté totalmente ordenado.\n",
    "\n",
    "Analizando el efecto de una pasada de izquierda a derecha, vemos que, aparte de los pequeños desórdenes que pueda ir arreglando por el camino, una vez que el algoritmo se encuentra con el máximo, los intercambios lo empiezan a trasladar paso a paso hacia la derecha, hasta que finalmente queda en el extremo derecho del arreglo. Eso significa que ya ha llegado a su posición definitiva, y no necesitamos volver a tocarlo. Por lo tanto, el algoritmo puede ignorar esos elementos al extremo derecho, los que por construcción están ordenados y son mayores que todos los de la izquierda. Esto lo podemos visualizar como:\n",
    "\n",
    "![ord-seleccion](assets/seleccion.png)\n",
    "\n",
    "¡El mismo invariante que la Ordenación por Selección! Sin embargo, el algoritmo resultante es distinto."
   ]
  },
  {
   "cell_type": "code",
   "execution_count": 41,
   "id": "5d480884",
   "metadata": {},
   "outputs": [],
   "source": [
    "# Ordenación de la Burbuja (versión 1)\n",
    "def ordena_burbuja(a):\n",
    "    n=len(a)\n",
    "    k=n # número de elementos todavía desordenados\n",
    "    while k>1:\n",
    "        # Hacer una pasada sobre a[0],...,a[k-1]\n",
    "        # intercambiando elementos adyacentes desordenados\n",
    "        for j in range(0,k-1):\n",
    "            if a[j]>a[j+1]:\n",
    "                (a[j],a[j+1])=(a[j+1],a[j])\n",
    "        # Disminuir k\n",
    "        k-=1"
   ]
  },
  {
   "cell_type": "code",
   "execution_count": 42,
   "id": "cd8c4a2b",
   "metadata": {},
   "outputs": [
    {
     "name": "stdout",
     "output_type": "stream",
     "text": [
      "[0.85677693 0.60084696 0.16866211 0.45676465 0.57088876 0.88105256]\n"
     ]
    }
   ],
   "source": [
    "a = np.random.random(6)\n",
    "print(a)\n"
   ]
  },
  {
   "cell_type": "code",
   "execution_count": 43,
   "id": "f9d5491b",
   "metadata": {},
   "outputs": [
    {
     "name": "stdout",
     "output_type": "stream",
     "text": [
      "[0.16866211 0.45676465 0.57088876 0.60084696 0.85677693 0.88105256]\n"
     ]
    }
   ],
   "source": [
    "ordena_burbuja(a)\n",
    "print(a)"
   ]
  },
  {
   "cell_type": "markdown",
   "id": "fd26ccad",
   "metadata": {},
   "source": [
    "Este algoritmo demora siempre tiempo $O(n^2)$, ¡incluso si se le da para ordenar un arreglo que ya viene ordenado!\n",
    "\n",
    "No cuesta mucho introducir una variable booleana que señale si en una pasada no se ha hecho ningún intercambio, y usar esa variable para terminar el proceso cuando eso ocurre. Pero hay una manera mejor de modificar el algoritmo para aumentar su eficiencia.\n",
    "\n",
    "Para esto, introducimos una variable $i$ que recuerda el punto donde se hizo el último intercambio (el cual habría sido entre $a[i-1]$ y $a[i]$. Si a partir de ese punto ya no se encontraron elementos fuera de orden, eso quiere decir que $a[i-1]<a[i]$ y luego a partir de ahí todos los elementos están ordenados, **hasta el final del arreglo**. Por lo tanto, el invariante se preserva si hacemos $k=i$.\n",
    "\n",
    "¿Qué pasa si no hubo ningún intercambio? Para este caso, si le damos a la variable $i$ el valor inicial cero, al hacer $k=i$ tendríamos $k=0$ y el proceso terminaría automáticamente. El algoritmo resultante es el siguiente:"
   ]
  },
  {
   "cell_type": "code",
   "execution_count": 44,
   "id": "f3f2277f",
   "metadata": {},
   "outputs": [],
   "source": [
    "# Ordenación de la Burbuja (versión 2)\n",
    "def ordena_burbuja(a):\n",
    "    n=len(a)\n",
    "    k=n # número de elementos todavía desordenados\n",
    "    while k>1:\n",
    "        # Hacer una pasada sobre a[0],...,a[k-1]\n",
    "        # intercambiando elementos adyacentes desordenados\n",
    "        i=0\n",
    "        for j in range(0,k-1):\n",
    "            if a[j]>a[j+1]:\n",
    "                (a[j],a[j+1])=(a[j+1],a[j])\n",
    "                i=j+1 # recordamos el lugar del último intercambio\n",
    "        # Disminuir k\n",
    "        k=i"
   ]
  },
  {
   "cell_type": "code",
   "execution_count": 47,
   "id": "592019e2",
   "metadata": {},
   "outputs": [
    {
     "name": "stdout",
     "output_type": "stream",
     "text": [
      "[0.96020161 0.51089752 0.3263206  0.67608324 0.38063487 0.26406515\n",
      " 0.57178952 0.15786912 0.40188333 0.3223213  0.74852672 0.71368827\n",
      " 0.09374958 0.14056546 0.18321011 0.38444552 0.81017804 0.61120114\n",
      " 0.64242103 0.65566355 0.67856925 0.38818444 0.73100671 0.17852304\n",
      " 0.38424622 0.52789372 0.4273566  0.38806272 0.58674616 0.821497\n",
      " 0.83131064 0.49860133 0.23715073 0.81002366 0.46683208 0.51686394\n",
      " 0.01505266 0.88141982 0.73930866 0.55791687 0.09244761 0.84328656\n",
      " 0.31691931 0.00352078 0.68251394 0.55113823 0.51371778 0.53580894\n",
      " 0.11001736 0.53425419 0.44360322 0.44602742 0.35819846 0.13892139\n",
      " 0.16188167 0.97494708 0.57804649 0.52991723 0.56807771 0.01115244\n",
      " 0.66564832 0.79294627 0.65123477 0.92390264 0.25821139 0.53070804\n",
      " 0.35533131 0.29075867 0.79915796 0.68713777 0.85138844 0.57416059\n",
      " 0.30854603 0.47186478 0.8417955  0.19624005 0.89864308 0.19383141\n",
      " 0.70427295 0.85627143 0.55738056 0.41134962 0.12281952 0.04890192\n",
      " 0.34425943 0.12179285 0.5207214  0.92381617 0.27441592 0.59381104\n",
      " 0.1203479  0.93208398 0.2654885  0.30986634 0.35810482 0.43917949\n",
      " 0.27293283 0.54953924 0.82477742 0.52067985]\n"
     ]
    }
   ],
   "source": [
    "a = np.random.random(100)\n",
    "print(a)\n"
   ]
  },
  {
   "cell_type": "code",
   "execution_count": 48,
   "id": "27bd448a",
   "metadata": {},
   "outputs": [
    {
     "name": "stdout",
     "output_type": "stream",
     "text": [
      "[0.00352078 0.01115244 0.01505266 0.04890192 0.09244761 0.09374958\n",
      " 0.11001736 0.1203479  0.12179285 0.12281952 0.13892139 0.14056546\n",
      " 0.15786912 0.16188167 0.17852304 0.18321011 0.19383141 0.19624005\n",
      " 0.23715073 0.25821139 0.26406515 0.2654885  0.27293283 0.27441592\n",
      " 0.29075867 0.30854603 0.30986634 0.31691931 0.3223213  0.3263206\n",
      " 0.34425943 0.35533131 0.35810482 0.35819846 0.38063487 0.38424622\n",
      " 0.38444552 0.38806272 0.38818444 0.40188333 0.41134962 0.4273566\n",
      " 0.43917949 0.44360322 0.44602742 0.46683208 0.47186478 0.49860133\n",
      " 0.51089752 0.51371778 0.51686394 0.52067985 0.5207214  0.52789372\n",
      " 0.52991723 0.53070804 0.53425419 0.53580894 0.54953924 0.55113823\n",
      " 0.55738056 0.55791687 0.56807771 0.57178952 0.57416059 0.57804649\n",
      " 0.58674616 0.59381104 0.61120114 0.64242103 0.65123477 0.65566355\n",
      " 0.66564832 0.67608324 0.67856925 0.68251394 0.68713777 0.70427295\n",
      " 0.71368827 0.73100671 0.73930866 0.74852672 0.79294627 0.79915796\n",
      " 0.81002366 0.81017804 0.821497   0.82477742 0.83131064 0.8417955\n",
      " 0.84328656 0.85138844 0.85627143 0.88141982 0.89864308 0.92381617\n",
      " 0.92390264 0.93208398 0.96020161 0.97494708]\n"
     ]
    }
   ],
   "source": [
    "ordena_burbuja(a)\n",
    "print(a)"
   ]
  },
  {
   "cell_type": "markdown",
   "id": "a03c10c4",
   "metadata": {},
   "source": [
    "Este algoritmo aprovecha mejor el orden previo que puede trar el arreglo, y en particular ordena arreglos ordenados en tiempo lineal. Pero tanto su peor caso como su caso promedio siguen siendo cuadráticos."
   ]
  },
  {
   "cell_type": "markdown",
   "id": "a9307dcb",
   "metadata": {},
   "source": [
    "## Recursividad\n",
    "\n",
    "El poder escribir funciones que se llamen a sí mismas es una herramienta muy poderosa de programación. Veremos algunos ejemplos de aplicaciones de este concepto, y más adelante veremos cómo puede conducir al diseño de algoritmos muy eficientes."
   ]
  },
  {
   "cell_type": "markdown",
   "id": "77009e7d",
   "metadata": {},
   "source": [
    "## Ejemplo: Calcular $y=x^n$\n",
    "Revisemos nuevamente este problema, pero ahora desde un punto de vista recursivo. Una potencia se puede definir recursivamente de la siguiente manera:\n",
    "\n",
    "$$\n",
    "x^n =\n",
    "\\begin{cases}x \\cdot x^{n-1} & \\mbox{si }n>0 \\\\\n",
    "1 & \\mbox{si }n=0\n",
    "\\end{cases}\n",
    "$$\n",
    "\n",
    "lo cual se puede implementar directamente como una función recursiva:"
   ]
  },
  {
   "cell_type": "code",
   "execution_count": 49,
   "id": "53dbbe8e",
   "metadata": {},
   "outputs": [],
   "source": [
    "def potencia(x,n):\n",
    "    if n==0:\n",
    "        return 1\n",
    "    else:\n",
    "        return x * potencia(x,n-1)"
   ]
  },
  {
   "cell_type": "code",
   "execution_count": 50,
   "id": "68f49130",
   "metadata": {},
   "outputs": [
    {
     "name": "stdout",
     "output_type": "stream",
     "text": [
      "1024\n"
     ]
    }
   ],
   "source": [
    "print(potencia(2,10))"
   ]
  },
  {
   "cell_type": "markdown",
   "id": "b74f3496",
   "metadata": {},
   "source": [
    "El algoritmo resultante demora tiempo $O(n)$, pero  puede mejorarse si el caso $n$ par lo tratamos aparte:\n",
    "\n",
    "$$\n",
    "x^n =\n",
    "\\begin{cases}\n",
    "\\left(x^2\\right)^{n/2} & \\mbox{si }n>0\\mbox{, par} \\\\\n",
    "x \\cdot x^{n-1} & \\mbox{si }n>0\\mbox{, impar} \\\\\n",
    "1 & \\mbox{si }n=0\n",
    "\\end{cases}\n",
    "$$\n",
    "\n",
    "y la función que lo implementa es:"
   ]
  },
  {
   "cell_type": "code",
   "execution_count": 51,
   "id": "b529a0ec",
   "metadata": {},
   "outputs": [],
   "source": [
    "def potencia(x,n):\n",
    "    if n==0:\n",
    "        return 1\n",
    "    elif n%2==0:\n",
    "        return potencia(x*x,n//2)\n",
    "    else:\n",
    "        return x * potencia(x,n-1)"
   ]
  },
  {
   "cell_type": "code",
   "execution_count": 52,
   "id": "14c888fc",
   "metadata": {},
   "outputs": [
    {
     "name": "stdout",
     "output_type": "stream",
     "text": [
      "1024\n"
     ]
    }
   ],
   "source": [
    "print(potencia(2,10))"
   ]
  },
  {
   "cell_type": "markdown",
   "id": "8c40712b",
   "metadata": {},
   "source": [
    "Se acuerdan que algoritmo es ese:???\n",
    "  \n",
    "El resultado es el algoritmo binario, que demora tiempo $O(\\log{n})$, en versión recursiva."
   ]
  },
  {
   "cell_type": "markdown",
   "id": "2c67f207",
   "metadata": {},
   "source": [
    "## Recursividad vs. Iteración\n",
    "Todo algoritmo iterativo puede escribirse recursivamente. En particular, cualquier ciclo de la forma\n",
    "```python\n",
    "while C:\n",
    "    A\n",
    "```\n",
    "puede implementarse como\n",
    "```python\n",
    "def f():\n",
    "    if C:\n",
    "        A\n",
    "        f()\n",
    "f()\n",
    "```\n",
    "Por cierto, en la llamada recursiva se le debe entregar a la función el contexto en que habría operado en la siguiente iteración del ciclo.\n",
    "\n",
    "Por ejemplo, si queremos imprimir uno por uno los elementos de un arreglo $a$, una forma iterativa de hacerlo sería:"
   ]
  },
  {
   "cell_type": "code",
   "execution_count": 53,
   "id": "2cf44b87",
   "metadata": {},
   "outputs": [],
   "source": [
    "def imprimir(a):\n",
    "    k=0\n",
    "    while k<len(a):\n",
    "        print(a[k])\n",
    "        k+=1"
   ]
  },
  {
   "cell_type": "code",
   "execution_count": 54,
   "id": "bbb78ab3",
   "metadata": {},
   "outputs": [
    {
     "name": "stdout",
     "output_type": "stream",
     "text": [
      "0.8869764850479012\n",
      "0.09658275631054991\n",
      "0.617874558774281\n",
      "0.08755784296810842\n",
      "0.8310269281029383\n",
      "0.38138452069251016\n"
     ]
    }
   ],
   "source": [
    "a=np.random.random(6)\n",
    "imprimir(a)"
   ]
  },
  {
   "cell_type": "code",
   "execution_count": 55,
   "id": "fbb5f936",
   "metadata": {},
   "outputs": [],
   "source": [
    "def imprimir(a):\n",
    "    imprimir_recursivo(a,0)\n",
    "    \n",
    "def imprimir_recursivo(a,k): # imprimir desde a[k] en adelante\n",
    "    if k<len(a):\n",
    "        print(a[k])\n",
    "        imprimir_recursivo(a,k+1)"
   ]
  },
  {
   "cell_type": "code",
   "execution_count": 57,
   "id": "eeb0ce48",
   "metadata": {},
   "outputs": [
    {
     "name": "stdout",
     "output_type": "stream",
     "text": [
      "[0.22323087 0.68960761 0.63144022 0.06987896 0.65189362 0.22182832]\n",
      "0.22323086866559272\n",
      "0.6896076057212541\n",
      "0.6314402150731923\n",
      "0.06987895879314132\n",
      "0.6518936190184964\n",
      "0.22182831926869917\n"
     ]
    }
   ],
   "source": [
    "a=np.random.random(6)\n",
    "print(a)\n",
    "imprimir(a)"
   ]
  },
  {
   "cell_type": "markdown",
   "id": "4abe4aea",
   "metadata": {},
   "source": [
    "Este proceso es reversible: cuando una función recursiva lo último que hace es llamarse a sí misma, lo que se llama \"recursividad a la cola\" (\"*tail recursion*\"), eso se puede reemplazar por un `while`:"
   ]
  },
  {
   "cell_type": "code",
   "execution_count": 58,
   "id": "c9223bc4",
   "metadata": {},
   "outputs": [],
   "source": [
    "def imprimir(a):\n",
    "    imprimir_recursivo(a,0)\n",
    "    \n",
    "def imprimir_recursivo(a,k): # imprimir desde a[k] en adelante, ahora NO recursivo\n",
    "    while k<len(a): # reemplazó a \"if k<len(a):\"\n",
    "        print(a[k])\n",
    "        k+=1 # reemplazó a \"imprimir_recursivo(a,k+1)\""
   ]
  },
  {
   "cell_type": "code",
   "execution_count": 59,
   "id": "4031b708",
   "metadata": {},
   "outputs": [
    {
     "name": "stdout",
     "output_type": "stream",
     "text": [
      "0.5691801100331773\n",
      "0.8003679736318905\n",
      "0.8108255113873708\n",
      "0.9671940863048628\n",
      "0.5075569856608906\n",
      "0.039029816217714064\n"
     ]
    }
   ],
   "source": [
    "a=np.random.random(6)\n",
    "imprimir(a)"
   ]
  },
  {
   "cell_type": "markdown",
   "id": "fff628b2",
   "metadata": {},
   "source": [
    "Pero ahora la función `imprimir_recursivo` es llamada desde un único lugar, con k=0, y por lo tanto, en ese lugar podemos sustituir la llamada por el código de la función, con lo que el resultado es:"
   ]
  },
  {
   "cell_type": "code",
   "execution_count": 60,
   "id": "8aa6c32d",
   "metadata": {},
   "outputs": [],
   "source": [
    "def imprimir(a):\n",
    "    # Esto reemplaza a \"imprimir_recursivo(a,0)\"\n",
    "    k=0\n",
    "    while k<len(a): # reemplazó a \"if k<len(a):\"\n",
    "        print(a[k])\n",
    "        k+=1 # reemplazó a \"imprimir_recursivo(a,k+1)\"\""
   ]
  },
  {
   "cell_type": "code",
   "execution_count": 61,
   "id": "1ec89857",
   "metadata": {},
   "outputs": [
    {
     "name": "stdout",
     "output_type": "stream",
     "text": [
      "0.8448142707329498\n",
      "0.2028991316497032\n",
      "0.665921885391618\n",
      "0.3491781965454135\n",
      "0.7034478942500062\n",
      "0.2791240159416307\n"
     ]
    }
   ],
   "source": [
    "a=np.random.random(6)\n",
    "imprimir(a)"
   ]
  },
  {
   "cell_type": "markdown",
   "id": "ed6e9412",
   "metadata": {},
   "source": [
    "¡Con lo cual hemos vuelto al punto de partida!\n",
    "\n",
    "Sin embargo, esto solo funciona para eliminar la \"recursividad a la cola\". Si hay llamadas recursivas que **no** son lo último que ejecuta la función, no pueden eliminarse con esta receta, y como veremos más adelante, requerirá el uso de una __estructura__ (la parte de estructura de datos del curso) llamada una \"pila\" (_stack_).\n",
    "\n",
    "El siguiente ejemplo ilustra un caso en que esto ocurre."
   ]
  },
  {
   "cell_type": "markdown",
   "id": "14340443",
   "metadata": {},
   "source": [
    "# Torres de Hanói"
   ]
  },
  {
   "cell_type": "code",
   "execution_count": 64,
   "id": "aeb7de64",
   "metadata": {},
   "outputs": [
    {
     "data": {
      "text/html": [
       "<iframe width=\"560\" height=\"315\" src=\"https://www.youtube.com/embed/LM68IQvIo_E?rel=0&amp;controls=0&amp;showinfo=0\" frameborder=\"0\" allowfullscreen></iframe>"
      ],
      "text/plain": [
       "<IPython.core.display.HTML object>"
      ]
     },
     "execution_count": 64,
     "metadata": {},
     "output_type": "execute_result"
    }
   ],
   "source": [
    "from IPython.display import HTML\n",
    "\n",
    "HTML('<iframe width=\"560\" height=\"315\" src=\"https://www.youtube.com/embed/LM68IQvIo_E?rel=0&amp;controls=0&amp;showinfo=0\" frameborder=\"0\" allowfullscreen></iframe>')"
   ]
  },
  {
   "cell_type": "markdown",
   "id": "de2ac476",
   "metadata": {},
   "source": [
    "## Ejemplo: Torres de Hanoi\n",
    "\n",
    "![Torres de Hanoi](recursos/ColorHanoi.jpg)\n",
    "\n",
    "Este puzzle consiste en trasladar $n$ discos desde la estaca $A$ la estaca $C$, respetando siempre las dos reglas siguientes:\n",
    "* Solo se puede mover de a un disco a la vez, y\n",
    "* Nunca puede haber un disco más grande sobre uno más chico\n",
    "Esto se puede resolver recursivamente de la siguiente manera:\n",
    "\n",
    "![Torres de Hanoi](recursos/hanoi.gif)\n",
    "\n",
    "Para mover $n$ discos desde $A$ hasta $C$ (usando la estaca $B$ como auxiliar):\n",
    "* Primero movemos (recursivamente) $n-1$ discos desde la estaca $A$ a la estaca $B$\n",
    "* Una vez despejado el camino, movemos 1 disco desde $A$ hasta $C$\n",
    "* Finalmente, movemos de nuevo (recursivamente) los $n-1$ discos, ahora desde $B$ hasta $C$ (usando $A$ como auxiliar)\n",
    "\n",
    "El caso base es $n=0$, en cuyo caso no se hace nada."
   ]
  },
  {
   "cell_type": "code",
   "execution_count": null,
   "id": "1af95452",
   "metadata": {},
   "outputs": [],
   "source": []
  }
 ],
 "metadata": {
  "kernelspec": {
   "display_name": "Python 3",
   "language": "python",
   "name": "python3"
  },
  "language_info": {
   "codemirror_mode": {
    "name": "ipython",
    "version": 3
   },
   "file_extension": ".py",
   "mimetype": "text/x-python",
   "name": "python",
   "nbconvert_exporter": "python",
   "pygments_lexer": "ipython3",
   "version": "3.8.8"
  }
 },
 "nbformat": 4,
 "nbformat_minor": 5
}
